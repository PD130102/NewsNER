{
 "cells": [
  {
   "cell_type": "code",
   "execution_count": 19,
   "metadata": {},
   "outputs": [],
   "source": [
    "import spacy\n",
    "import random\n",
    "import json\n",
    "import pickle\n",
    "import pandas as pd"
   ]
  },
  {
   "cell_type": "code",
   "execution_count": 20,
   "metadata": {},
   "outputs": [],
   "source": [
    "data = pd.read_csv('./dataset/hi-train.csv', encoding='utf-8')"
   ]
  },
  {
   "cell_type": "code",
   "execution_count": 21,
   "metadata": {},
   "outputs": [
    {
     "data": {
      "text/html": [
       "<div>\n",
       "<style scoped>\n",
       "    .dataframe tbody tr th:only-of-type {\n",
       "        vertical-align: middle;\n",
       "    }\n",
       "\n",
       "    .dataframe tbody tr th {\n",
       "        vertical-align: top;\n",
       "    }\n",
       "\n",
       "    .dataframe thead th {\n",
       "        text-align: right;\n",
       "    }\n",
       "</style>\n",
       "<table border=\"1\" class=\"dataframe\">\n",
       "  <thead>\n",
       "    <tr style=\"text-align: right;\">\n",
       "      <th></th>\n",
       "      <th>label</th>\n",
       "      <th>text</th>\n",
       "    </tr>\n",
       "  </thead>\n",
       "  <tbody>\n",
       "    <tr>\n",
       "      <th>0</th>\n",
       "      <td>india</td>\n",
       "      <td>मेट्रो की इस लाइन के चलने से दक्षिणी दिल्ली से...</td>\n",
       "    </tr>\n",
       "    <tr>\n",
       "      <th>1</th>\n",
       "      <td>pakistan</td>\n",
       "      <td>नेटिजन यानि इंटरनेट पर सक्रिय नागरिक अब ट्विटर...</td>\n",
       "    </tr>\n",
       "    <tr>\n",
       "      <th>2</th>\n",
       "      <td>news</td>\n",
       "      <td>इसमें एक फ़्लाइट एटेनडेंट की मदद की गुहार है औ...</td>\n",
       "    </tr>\n",
       "    <tr>\n",
       "      <th>3</th>\n",
       "      <td>india</td>\n",
       "      <td>प्रतीक खुलेपन का, आज़ाद ख्याली का और भीड़ से अ...</td>\n",
       "    </tr>\n",
       "    <tr>\n",
       "      <th>4</th>\n",
       "      <td>india</td>\n",
       "      <td>ख़ासकर पिछले 10 साल तक प्रधानमंत्री रहे मनमोहन...</td>\n",
       "    </tr>\n",
       "  </tbody>\n",
       "</table>\n",
       "</div>"
      ],
      "text/plain": [
       "      label                                               text\n",
       "0     india  मेट्रो की इस लाइन के चलने से दक्षिणी दिल्ली से...\n",
       "1  pakistan  नेटिजन यानि इंटरनेट पर सक्रिय नागरिक अब ट्विटर...\n",
       "2      news  इसमें एक फ़्लाइट एटेनडेंट की मदद की गुहार है औ...\n",
       "3     india  प्रतीक खुलेपन का, आज़ाद ख्याली का और भीड़ से अ...\n",
       "4     india  ख़ासकर पिछले 10 साल तक प्रधानमंत्री रहे मनमोहन..."
      ]
     },
     "execution_count": 21,
     "metadata": {},
     "output_type": "execute_result"
    }
   ],
   "source": [
    "data.head()"
   ]
  },
  {
   "cell_type": "code",
   "execution_count": 22,
   "metadata": {},
   "outputs": [],
   "source": [
    "from transformers import AutoModelForTokenClassification, AutoTokenizer\n",
    "import torch"
   ]
  },
  {
   "cell_type": "code",
   "execution_count": 23,
   "metadata": {},
   "outputs": [],
   "source": [
    "model = AutoModelForTokenClassification.from_pretrained(\"MichaelHuang/muril_base_cased_hindi_ner\")\n",
    "tokenizer = AutoTokenizer.from_pretrained(\"google/muril-base-cased\")\n",
    "\n",
    "# Define the labels dictionary\n",
    "labels_dict = {\n",
    "    0: \"B-FESTIVAL\",\n",
    "    1: \"B-GAME\",\n",
    "    2: \"B-LANGUAGE\",\n",
    "    3: \"B-LITERATURE\",\n",
    "    4: \"B-LOCATION\",\n",
    "    5: \"B-MISC\",\n",
    "    6: \"B-NUMEX\",\n",
    "    7: \"B-ORGANIZATION\",\n",
    "    8: \"B-PERSON\",\n",
    "    9: \"B-RELIGION\",\n",
    "    10: \"B-TIMEX\",\n",
    "    11: \"I-FESTIVAL\",\n",
    "    12: \"I-GAME\",\n",
    "    13: \"I-LANGUAGE\",\n",
    "    14: \"I-LITERATURE\",\n",
    "    15: \"I-LOCATION\",\n",
    "    16: \"I-MISC\",\n",
    "    17: \"I-NUMEX\",\n",
    "    18: \"I-ORGANIZATION\",\n",
    "    19: \"I-PERSON\",\n",
    "    20: \"I-RELIGION\",\n",
    "    21: \"I-TIMEX\",\n",
    "    22: \"O\"\n",
    "}"
   ]
  },
  {
   "cell_type": "code",
   "execution_count": 24,
   "metadata": {},
   "outputs": [],
   "source": [
    "def ner_predict(sentence, model, tokenizer, labels_dict):\n",
    "    inputs = tokenizer(sentence, return_tensors=\"pt\", padding=True, truncation=True, max_length=128)\n",
    "    with torch.no_grad():\n",
    "        outputs = model(**inputs)\n",
    "    predicted_labels = torch.argmax(outputs.logits, dim=2)\n",
    "    tokens = tokenizer.convert_ids_to_tokens(inputs[\"input_ids\"][0])\n",
    "    labels = predicted_labels.squeeze().tolist()\n",
    "    predicted_labels = [labels_dict[label] for label in labels]\n",
    "    result = list(zip(tokens, predicted_labels))\n",
    "    return result"
   ]
  },
  {
   "cell_type": "code",
   "execution_count": 25,
   "metadata": {},
   "outputs": [
    {
     "name": "stdout",
     "output_type": "stream",
     "text": [
      "[('[CLS]', 'O'), ('इस', 'O'), ('वर्ष', 'O'), ('के', 'O'), ('बाद', 'O'), ('भारत', 'B-LOCATION'), ('के', 'O'), ('लिए', 'O'), ('बहुत', 'O'), ('ही', 'O'), ('शुभ', 'O'), ('और', 'O'), ('खुश', 'O'), ('##नुमा', 'O'), ('साबित', 'O'), ('होगा', 'O'), ('।', 'O'), ('[SEP]', 'O')]\n",
      "<class 'list'>\n",
      "[CLS]/O इस/O वर्ष/O के/O बाद/O भारत/B-LOCATION के/O लिए/O बहुत/O ही/O शुभ/O और/O खुश/O ##नुमा/O साबित/O होगा/O ।/O [SEP]/O\n"
     ]
    }
   ],
   "source": [
    "# Pickle the model for future use for fast inference and getting the same results and usage of the model\n",
    "pickle.dump(model, open('./models/NERTransmodel.pkl', 'wb'))\n",
    "pickle.dump(tokenizer, open('./models/NERTranstokenizer.pkl', 'wb'))\n",
    "pickle.dump(labels_dict, open('./models/NERTranslabels_dict.pkl', 'wb'))\n",
    "\n",
    "# Load the model and tokenizer\n",
    "model = pickle.load(open('./models/NERTransmodel.pkl', 'rb'))\n",
    "tokenizer = pickle.load(open('./models/NERTranstokenizer.pkl', 'rb'))\n",
    "labels_dict = pickle.load(open('./models/NERTranslabels_dict.pkl', 'rb'))\n",
    "\n",
    "# Test the model\n",
    "sentence = \"इस वर्ष के बाद भारत के लिए बहुत ही शुभ और खुशनुमा साबित होगा।\"\n",
    "result = ner_predict(sentence, model, tokenizer, labels_dict)\n",
    "print(result)\n",
    "# Conver the result to string in the format of word/tag\n",
    "result = [f\"{word}/{tag}\" for word, tag in result]\n",
    "print(type(result))\n",
    "# conver the list to string\n",
    "result = \" \".join(result)\n",
    "print(result)\n"
   ]
  },
  {
   "cell_type": "code",
   "execution_count": 26,
   "metadata": {},
   "outputs": [
    {
     "name": "stdout",
     "output_type": "stream",
     "text": [
      "\"[CLS]/O इस/O वर्ष/O के/O बाद/O भारत/B-LOCATION के/O लिए/O बहुत/O ही/O शुभ/O और/O खुश/O ##नुमा/O साबित/O होगा/O ।/O [SEP]/O\"\n"
     ]
    }
   ],
   "source": [
    "import json \n",
    "result = json.dumps(result, ensure_ascii=False)\n",
    "print(result)"
   ]
  },
  {
   "cell_type": "code",
   "execution_count": 27,
   "metadata": {},
   "outputs": [
    {
     "name": "stdout",
     "output_type": "stream",
     "text": [
      "[CLS]: O\n",
      "अकबर: B-PERSON\n",
      "ईद: O\n",
      "पर: O\n",
      "टेनिस: B-GAME\n",
      "खेलता: O\n",
      "है: O\n",
      "[SEP]: O\n"
     ]
    }
   ],
   "source": [
    "test_sentence = \"अकबर ईद पर टेनिस खेलता है\"\n",
    "predictions = ner_predict(test_sentence, model, tokenizer, labels_dict)\n",
    "\n",
    "for token, label in predictions:\n",
    "    print(f\"{token}: {label}\")"
   ]
  },
  {
   "cell_type": "code",
   "execution_count": 33,
   "metadata": {},
   "outputs": [],
   "source": [
    "def response_parse(data):\n",
    "    data = data.encode('utf-8').decode('unicode_escape')\n",
    "    data = data.replace('\"', '')\n",
    "    data = data.replace('[', '')\n",
    "    data = data.replace(']', '')\n",
    "    data = data[1:-1]\n",
    "    data = data.split('}, {')\n",
    "    return data"
   ]
  },
  {
   "cell_type": "code",
   "execution_count": 35,
   "metadata": {},
   "outputs": [
    {
     "name": "stdout",
     "output_type": "stream",
     "text": [
      "['erm: CLS, label: O,term: à¤\\x85à¤\\x95à¤¬à¤°, label: B-PERSON,term: à¤\\x88à¤¦, label: O,term: à¤ªà¤°, label: O,term: à¤\\x9fà¥\\x87à¤¨à¤¿à¤¸, label: B-GAME,term: à¤\\x96à¥\\x87à¤²à¤¤à¤¾, label: O,term: à¤¹à¥\\x88, label: O,term: SEP, label: ']\n"
     ]
    }
   ],
   "source": [
    "import requests\n",
    "url = \"http://127.0.0.1:8000/get_ner_tags\"\n",
    "payload = json.dumps({\n",
    "    \"sentence\": \"अकबर ईद पर टेनिस खेलता है\"\n",
    "    })\n",
    "\n",
    "headers = {\n",
    "    'Content-Type': 'application/json'\n",
    "    }\n",
    "response = requests.request(\"POST\", url,headers=headers, data=payload)\n",
    "print(response_parse(response.text))\n"
   ]
  }
 ],
 "metadata": {
  "kernelspec": {
   "display_name": "nlp",
   "language": "python",
   "name": "python3"
  },
  "language_info": {
   "codemirror_mode": {
    "name": "ipython",
    "version": 3
   },
   "file_extension": ".py",
   "mimetype": "text/x-python",
   "name": "python",
   "nbconvert_exporter": "python",
   "pygments_lexer": "ipython3",
   "version": "3.10.9"
  }
 },
 "nbformat": 4,
 "nbformat_minor": 2
}
